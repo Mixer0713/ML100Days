{
 "cells": [
  {
   "cell_type": "code",
   "execution_count": 70,
   "metadata": {},
   "outputs": [],
   "source": [
    "import numpy as np"
   ]
  },
  {
   "cell_type": "code",
   "execution_count": 71,
   "metadata": {},
   "outputs": [],
   "source": [
    "#Gdb=20*log10*(V1/V0)\n",
    "#Gdb=分貝，V1=聲壓測量值，V0=聲壓標準值\n",
    "#以聲壓20μPa定義為0分貝，表示V0=20μPa，V1=20μPa"
   ]
  },
  {
   "cell_type": "code",
   "execution_count": 72,
   "metadata": {},
   "outputs": [
    {
     "name": "stdout",
     "output_type": "stream",
     "text": [
      "60.0 分貝\n"
     ]
    }
   ],
   "source": [
    "#1.正常的談話的聲壓為20000微巴斯卡，請問多少分貝?\n",
    "#請寫下程式\n",
    "\n",
    "V1 = 20000\n",
    "V0 = 20\n",
    "Gdb=20*np.log10(V1/V0)\n",
    "print(Gdb,\"分貝\")"
   ]
  },
  {
   "cell_type": "code",
   "execution_count": 73,
   "metadata": {},
   "outputs": [],
   "source": [
    "#2.30分貝的聲壓會是50分貝的幾倍?\n",
    "#公式移項過後可以得到 V1 = ?\n",
    "#Gdb=20*log10*(V1/V0)\n",
    "#log10(V1/V0)=Gdb/20\n",
    "#log10(v1)-log10(V0)=Gdb/20\n",
    "#log10(V1)=(Gdb/20)+log10(V0)\n",
    "#V1=10**(Gdb/20)+log10(V0)\n",
    "#V1=np.power(10,(Gdb/20)+log10(V0))\n",
    "#V1=np.power(10,(Gdb/20)+np.log10(V0))\n",
    "\n",
    "#請寫下程式\n",
    "#V1=np.power(10,(Gdb/20)+np.log10(V0))"
   ]
  },
  {
   "cell_type": "code",
   "execution_count": 74,
   "metadata": {},
   "outputs": [
    {
     "name": "stdout",
     "output_type": "stream",
     "text": [
      "632.4555320336759\n",
      "6324.55532033676\n",
      "0.09999999999999999 倍\n"
     ]
    }
   ],
   "source": [
    "#宣告變數\n",
    "Gdb_30=30\n",
    "Gdb_50=50\n",
    "V0=20\n",
    "#計算V1_30，30分貝的聲壓\n",
    "V1_30=np.power(10,(Gdb_30/20)+np.log10(V0))\n",
    "print(V1_30)\n",
    "#計算V1_50，50分貝的聲壓\n",
    "V1_50=np.power(10,(Gdb_50/20)+np.log10(V0))\n",
    "print(V1_50)\n",
    "#計算30分貝的聲壓是50分貝的幾倍\n",
    "print(V1_30/V1_50,\"倍\")"
   ]
  },
  {
   "cell_type": "code",
   "execution_count": 75,
   "metadata": {},
   "outputs": [
    {
     "name": "stdout",
     "output_type": "stream",
     "text": [
      "2.0\n",
      "2.0\n",
      "4.301029995663981\n",
      "20000.000000000004\n",
      "30 30.0 True\n",
      "50 50.0 True\n"
     ]
    }
   ],
   "source": [
    "#測試區\n",
    "print(np.log10(2000/20))\n",
    "print(np.log10(2000)-np.log10(20))\n",
    "print((60/20)+np.log10(20))\n",
    "print(np.power(10,(60/20)+np.log10(20)))\n",
    "print(Gdb_30,20*np.log10(V1_30/V0),Gdb_30==20*np.log10(V1_30/V0))\n",
    "print(Gdb_50,20*np.log10(V1_50/V0),Gdb_50==20*np.log10(V1_50/V0))"
   ]
  },
  {
   "cell_type": "code",
   "execution_count": null,
   "metadata": {},
   "outputs": [],
   "source": []
  }
 ],
 "metadata": {
  "kernelspec": {
   "display_name": "Python 3",
   "language": "python",
   "name": "python3"
  },
  "language_info": {
   "codemirror_mode": {
    "name": "ipython",
    "version": 3
   },
   "file_extension": ".py",
   "mimetype": "text/x-python",
   "name": "python",
   "nbconvert_exporter": "python",
   "pygments_lexer": "ipython3",
   "version": "3.8.5"
  }
 },
 "nbformat": 4,
 "nbformat_minor": 4
}
