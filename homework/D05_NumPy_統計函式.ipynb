{
 "cells": [
  {
   "cell_type": "markdown",
   "metadata": {},
   "source": [
    "english_score = np.array([55,89,76,65,48,70])\n",
    "\n",
    "math_score = np.array([60,85,60,68,np.nan,60])\n",
    "\n",
    "chinese_score = np.array([65,90,82,72,66,77])\n",
    "\n",
    "### 上3列共六位同學的英文、數學、國文成績，第一個元素代表第一位同學，\n",
    "\n",
    "舉例第一位同學英文 55 分、數學 60 分、國文 65 分，\n",
    "\n",
    "今天第五位同學因某原因沒來考試，導致數學成績缺值，\n",
    "\n",
    "運用上列數據回答下列問題。"
   ]
  },
  {
   "cell_type": "code",
   "execution_count": 3,
   "metadata": {},
   "outputs": [],
   "source": [
    "import numpy as np"
   ]
  },
  {
   "cell_type": "code",
   "execution_count": 80,
   "metadata": {},
   "outputs": [],
   "source": [
    "english_score = np.array([55,89,76,65,48,70])\n",
    "\n",
    "math_score = np.array([60,85,60,68,np.nan,60])\n",
    "\n",
    "chinese_score = np.array([65,90,82,72,66,77])"
   ]
  },
  {
   "cell_type": "markdown",
   "metadata": {},
   "source": [
    "### 平均"
   ]
  },
  {
   "cell_type": "code",
   "execution_count": 81,
   "metadata": {
    "scrolled": true
   },
   "outputs": [
    {
     "name": "stdout",
     "output_type": "stream",
     "text": [
      "英文平均= 67.16666666666667 ,使用average()\n",
      "英文平均= 67.16666666666667 ,使用mean()\n",
      "數學平均= nan ,使用average()\n",
      "數學平均= nan ,使用mean()\n",
      "數學平均= 66.6 ,使用nanmean()\n",
      "國文平均= 75.33333333333333 ,使用average()\n",
      "國文平均= 75.33333333333333 ,使用mean()\n"
     ]
    }
   ],
   "source": [
    "#1.請計算各科成績平均、最大值、最小值、標準差，其中數學缺一筆資料可忽略？\n",
    "print(\"英文平均=\",np.average(english_score),\",使用average()\")   #使用average()\n",
    "print(\"英文平均=\",np.mean(english_score),\",使用mean()\")         #使用mean()\n",
    "print(\"數學平均=\",np.average(math_score),\",使用average()\")      #若元素當中有nan會回傳nan，因此不可用average()\n",
    "print(\"數學平均=\",np.mean(math_score),\",使用mean()\")         #要用mean()\n",
    "print(\"數學平均=\",np.nanmean(math_score),\",使用nanmean()\")      #要用nanmean()\n",
    "print(\"國文平均=\",np.average(chinese_score),\",使用average()\")   #使用average()\n",
    "print(\"國文平均=\",np.mean(chinese_score),\",使用mean()\")         #使用mean()"
   ]
  },
  {
   "cell_type": "markdown",
   "metadata": {},
   "source": [
    "### 最大值"
   ]
  },
  {
   "cell_type": "code",
   "execution_count": 82,
   "metadata": {},
   "outputs": [
    {
     "name": "stdout",
     "output_type": "stream",
     "text": [
      "英文最大值= 89 ,使用max()\n",
      "英文最大值= 89 ,使用amax()\n",
      "數學最大值= nan ,使用max()\n",
      "數學最大值= nan ,使用amax()\n",
      "數學最大值= 85.0 ,使用nanmax()\n",
      "國文最大值= 90 ,使用max()\n",
      "國文最大值= 90 ,使用amax()\n"
     ]
    }
   ],
   "source": [
    "print(\"英文最大值=\",np.max(english_score),\",使用max()\")    #使用max()\n",
    "print(\"英文最大值=\",np.amax(english_score),\",使用amax()\")  #使用amax()\n",
    "print(\"數學最大值=\",np.max(math_score),\",使用max()\")       #若元素當中有nan會回傳nan，因此不可用max()\n",
    "print(\"數學最大值=\",np.amax(math_score),\",使用amax()\")     #若元素當中有nan會回傳nan，因此不可用amax()\n",
    "print(\"數學最大值=\",np.nanmax(math_score),\",使用nanmax()\") #要用nanmax()\n",
    "print(\"國文最大值=\",np.max(chinese_score),\",使用max()\")    #使用max()\n",
    "print(\"國文最大值=\",np.amax(chinese_score),\",使用amax()\")  #使用amax()"
   ]
  },
  {
   "cell_type": "markdown",
   "metadata": {},
   "source": [
    "### 最小值"
   ]
  },
  {
   "cell_type": "code",
   "execution_count": 83,
   "metadata": {},
   "outputs": [
    {
     "name": "stdout",
     "output_type": "stream",
     "text": [
      "英文最小值= 48 ,使用min()\n",
      "英文最小值= 48 ,使用amin()\n",
      "數學最小值= nan ,使用min()\n",
      "數學最小值= nan ,使用amin()\n",
      "數學最小值= 60.0 ,使用nanmin()\n",
      "國文最小值= 65 ,使用min()\n",
      "國文最小值= 65 ,使用amin()\n"
     ]
    }
   ],
   "source": [
    "print(\"英文最小值=\",np.min(english_score),\",使用min()\")    #使用min()\n",
    "print(\"英文最小值=\",np.amin(english_score),\",使用amin()\")  #使用amin()\n",
    "print(\"數學最小值=\",np.min(math_score),\",使用min()\")       #若元素當中有nan會回傳nan，因此不可用min()\n",
    "print(\"數學最小值=\",np.amin(math_score),\",使用amin()\")     #若元素當中有nan會回傳nan，因此不可用amin()\n",
    "print(\"數學最小值=\",np.nanmin(math_score),\",使用nanmin()\") #要用nanmin()\n",
    "print(\"國文最小值=\",np.min(chinese_score),\",使用min()\")    #使用min()\n",
    "print(\"國文最小值=\",np.amin(chinese_score),\",使用amin()\")  #使用amin()"
   ]
  },
  {
   "cell_type": "markdown",
   "metadata": {},
   "source": [
    "### 標準差"
   ]
  },
  {
   "cell_type": "code",
   "execution_count": 84,
   "metadata": {},
   "outputs": [
    {
     "name": "stdout",
     "output_type": "stream",
     "text": [
      "英文標準差= 13.433995020924426 ,使用std()\n",
      "數學標準差= nan ,使用std()\n",
      "數學標準差= 9.707728879609279 ,使用nanstd()\n",
      "國文標準差= 8.825468196582484 ,使用std()\n"
     ]
    }
   ],
   "source": [
    "print(\"英文標準差=\",np.std(english_score),\",使用std()\")\n",
    "print(\"數學標準差=\",np.std(math_score),\",使用std()\")       #若元素當中有nan會回傳nan，因此不可用std()\n",
    "print(\"數學標準差=\",np.nanstd(math_score),\",使用nanstd()\") #要用nanstd()\n",
    "print(\"國文標準差=\",np.std(chinese_score),\",使用std()\")"
   ]
  },
  {
   "cell_type": "code",
   "execution_count": 87,
   "metadata": {},
   "outputs": [
    {
     "name": "stdout",
     "output_type": "stream",
     "text": [
      "[60. 85. 60. 68. 55. 60.]\n",
      "數學平均= 64.66666666666667 ,使用average()\n",
      "數學平均= 64.66666666666667 ,使用mean()\n",
      "數學平均= 64.66666666666667 ,使用nanmean()\n",
      "數學最大值= 85.0 ,使用max()\n",
      "數學最大值= 85.0 ,使用amax()\n",
      "數學最大值= 85.0 ,使用nanmax()\n",
      "數學最小值= 55.0 ,使用min()\n",
      "數學最小值= 55.0 ,使用amin()\n",
      "數學最小值= 55.0 ,使用nanmin()\n",
      "數學標準差= 9.860132971832694 ,使用std()\n",
      "數學標準差= 9.860132971832694 ,使用nanstd()\n"
     ]
    }
   ],
   "source": [
    "#2.第五位同學補考數學後成績為 55，請計算補考後數學成績平均、最大值、最小值、標準差？\n",
    "#math_score[5-1]=np.nan\n",
    "math_score[5-1]=55\n",
    "print(math_score)\n",
    "print(\"數學平均=\",np.average(math_score),\",使用average()\")\n",
    "print(\"數學平均=\",np.mean(math_score),\",使用mean()\")\n",
    "print(\"數學平均=\",np.nanmean(math_score),\",使用nanmean()\")\n",
    "print(\"數學最大值=\",np.max(math_score),\",使用max()\")       \n",
    "print(\"數學最大值=\",np.amax(math_score),\",使用amax()\")     \n",
    "print(\"數學最大值=\",np.nanmax(math_score),\",使用nanmax()\")\n",
    "print(\"數學最小值=\",np.min(math_score),\",使用min()\")       \n",
    "print(\"數學最小值=\",np.amin(math_score),\",使用amin()\")     \n",
    "print(\"數學最小值=\",np.nanmin(math_score),\",使用nanmin()\")\n",
    "print(\"數學標準差=\",np.std(math_score),\",使用std()\")       \n",
    "print(\"數學標準差=\",np.nanstd(math_score),\",使用nanstd()\") "
   ]
  },
  {
   "cell_type": "code",
   "execution_count": 88,
   "metadata": {},
   "outputs": [
    {
     "name": "stdout",
     "output_type": "stream",
     "text": [
      "[31055]\n",
      "[29616.]\n"
     ]
    }
   ],
   "source": [
    "#3.用補考後資料找出與國文成績相關係數最高的學科？\n",
    "print(np.correlate(chinese_score,english_score))\n",
    "print(np.correlate(chinese_score,math_score))"
   ]
  },
  {
   "cell_type": "code",
   "execution_count": null,
   "metadata": {},
   "outputs": [],
   "source": []
  }
 ],
 "metadata": {
  "kernelspec": {
   "display_name": "Python 3",
   "language": "python",
   "name": "python3"
  },
  "language_info": {
   "codemirror_mode": {
    "name": "ipython",
    "version": 3
   },
   "file_extension": ".py",
   "mimetype": "text/x-python",
   "name": "python",
   "nbconvert_exporter": "python",
   "pygments_lexer": "ipython3",
   "version": "3.8.5"
  }
 },
 "nbformat": 4,
 "nbformat_minor": 4
}
